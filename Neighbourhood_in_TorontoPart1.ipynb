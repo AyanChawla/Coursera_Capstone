{
  "nbformat": 4,
  "nbformat_minor": 0,
  "metadata": {
    "colab": {
      "name": "Neighbourhood in Toronto1.ipynb",
      "provenance": [],
      "authorship_tag": "ABX9TyPNSq/gx80X7px6UN1AzG7C",
      "include_colab_link": true
    },
    "kernelspec": {
      "name": "python3",
      "display_name": "Python 3"
    }
  },
  "cells": [
    {
      "cell_type": "markdown",
      "metadata": {
        "id": "view-in-github",
        "colab_type": "text"
      },
      "source": [
        "<a href=\"https://colab.research.google.com/github/AyanChawla/Coursera_Capstone/blob/master/Neighbourhood_in_TorontoPart1.ipynb\" target=\"_parent\"><img src=\"https://colab.research.google.com/assets/colab-badge.svg\" alt=\"Open In Colab\"/></a>"
      ]
    },
    {
      "cell_type": "markdown",
      "metadata": {
        "id": "eilbNq-cZLtW",
        "colab_type": "text"
      },
      "source": [
        "# Capstone Project\n",
        "\n",
        "Getting data from Wikipedia and preproccessing it."
      ]
    },
    {
      "cell_type": "code",
      "metadata": {
        "id": "UOXBPy9rY5gZ",
        "colab_type": "code",
        "colab": {}
      },
      "source": [
        "from bs4 import BeautifulSoup as bsoup\n",
        "from urllib.request import urlopen as uReq\n",
        "import requests\n",
        "import lxml\n",
        "import pandas as pd\n",
        "from pandas import DataFrame\n",
        "import numpy as np"
      ],
      "execution_count": 0,
      "outputs": []
    },
    {
      "cell_type": "markdown",
      "metadata": {
        "id": "6QCHQnLJZwOH",
        "colab_type": "text"
      },
      "source": [
        "Using Requests module to get wikipedia page"
      ]
    },
    {
      "cell_type": "code",
      "metadata": {
        "id": "soreb7Y1ZdqY",
        "colab_type": "code",
        "colab": {}
      },
      "source": [
        "r=requests.get('https://en.wikipedia.org/wiki/List_of_postal_codes_of_Canada:_M')"
      ],
      "execution_count": 0,
      "outputs": []
    },
    {
      "cell_type": "markdown",
      "metadata": {
        "id": "cqNHYHeCZ2qv",
        "colab_type": "text"
      },
      "source": [
        "Using bs4 to scrape the Data\n"
      ]
    },
    {
      "cell_type": "code",
      "metadata": {
        "id": "90A88YEgZ2Qx",
        "colab_type": "code",
        "colab": {}
      },
      "source": [
        "results=bsoup(r.text,\"html.parser\")"
      ],
      "execution_count": 0,
      "outputs": []
    },
    {
      "cell_type": "code",
      "metadata": {
        "id": "EWarLJAaZ-b-",
        "colab_type": "code",
        "colab": {
          "base_uri": "https://localhost:8080/",
          "height": 35
        },
        "outputId": "a3fc66f2-d12f-4dbb-b1bf-d78b7bf0b4ce"
      },
      "source": [
        "type(results)"
      ],
      "execution_count": 4,
      "outputs": [
        {
          "output_type": "execute_result",
          "data": {
            "text/plain": [
              "bs4.BeautifulSoup"
            ]
          },
          "metadata": {
            "tags": []
          },
          "execution_count": 4
        }
      ]
    },
    {
      "cell_type": "markdown",
      "metadata": {
        "id": "JdZ2kDI9ayxg",
        "colab_type": "text"
      },
      "source": [
        "From inspecting we get that it is inside the table element"
      ]
    },
    {
      "cell_type": "code",
      "metadata": {
        "id": "X7drEx2yaEM5",
        "colab_type": "code",
        "colab": {}
      },
      "source": [
        "table = results.table\n",
        "table_rows=table.find_all('tr')"
      ],
      "execution_count": 0,
      "outputs": []
    },
    {
      "cell_type": "code",
      "metadata": {
        "id": "zoTKXcr8cs7Q",
        "colab_type": "code",
        "colab": {
          "base_uri": "https://localhost:8080/",
          "height": 145
        },
        "outputId": "5fb91baf-3702-421e-834b-65f80e9019c2"
      },
      "source": [
        "table_rows[0]"
      ],
      "execution_count": 10,
      "outputs": [
        {
          "output_type": "execute_result",
          "data": {
            "text/plain": [
              "<tr>\n",
              "<th>Postal Code\n",
              "</th>\n",
              "<th>Borough\n",
              "</th>\n",
              "<th>Neighborhood\n",
              "</th></tr>"
            ]
          },
          "metadata": {
            "tags": []
          },
          "execution_count": 10
        }
      ]
    },
    {
      "cell_type": "code",
      "metadata": {
        "id": "jni5KPMFczlW",
        "colab_type": "code",
        "colab": {
          "base_uri": "https://localhost:8080/",
          "height": 35
        },
        "outputId": "af8a06d0-02f8-4bc8-a3a3-8a70133a9db9"
      },
      "source": [
        "table_rows[0].text"
      ],
      "execution_count": 12,
      "outputs": [
        {
          "output_type": "execute_result",
          "data": {
            "text/plain": [
              "'\\nPostal Code\\n\\nBorough\\n\\nNeighborhood\\n'"
            ]
          },
          "metadata": {
            "tags": []
          },
          "execution_count": 12
        }
      ]
    },
    {
      "cell_type": "code",
      "metadata": {
        "id": "BBcJuzfUePz1",
        "colab_type": "code",
        "colab": {
          "base_uri": "https://localhost:8080/",
          "height": 35
        },
        "outputId": "3b596039-61a1-4bc4-f3db-3eecafbc2c00"
      },
      "source": [
        "nrows=len(table_rows)\n",
        "nrows"
      ],
      "execution_count": 16,
      "outputs": [
        {
          "output_type": "execute_result",
          "data": {
            "text/plain": [
              "181"
            ]
          },
          "metadata": {
            "tags": []
          },
          "execution_count": 16
        }
      ]
    },
    {
      "cell_type": "markdown",
      "metadata": {
        "id": "y4ykyVMseS2_",
        "colab_type": "text"
      },
      "source": [
        "There are 181 rows"
      ]
    },
    {
      "cell_type": "markdown",
      "metadata": {
        "id": "gHhiU4cdc63s",
        "colab_type": "text"
      },
      "source": [
        "Lets make a DF"
      ]
    },
    {
      "cell_type": "code",
      "metadata": {
        "id": "RgwZofmEfG2a",
        "colab_type": "code",
        "colab": {
          "base_uri": "https://localhost:8080/",
          "height": 35
        },
        "outputId": "31d7a2b2-0112-485b-e030-91318d4623ac"
      },
      "source": [
        "table_rows[10].text.split('\\n')"
      ],
      "execution_count": 25,
      "outputs": [
        {
          "output_type": "execute_result",
          "data": {
            "text/plain": [
              "['', 'M1B', '', 'Scarborough', '', 'Malvern / Rouge', '']"
            ]
          },
          "metadata": {
            "tags": []
          },
          "execution_count": 25
        }
      ]
    },
    {
      "cell_type": "markdown",
      "metadata": {
        "id": "HuOTRziNfUNT",
        "colab_type": "text"
      },
      "source": [
        "It shows that index 1 has Postal code, 3 has Borough and 5 has neighbourhood"
      ]
    },
    {
      "cell_type": "code",
      "metadata": {
        "id": "Y3q5yXy4b4Ac",
        "colab_type": "code",
        "colab": {
          "base_uri": "https://localhost:8080/",
          "height": 198
        },
        "outputId": "2f515587-c522-4e5e-9fe7-9b891d893123"
      },
      "source": [
        "rows=[]\n",
        "n=1\n",
        "while n < nrows :\n",
        "    Postcode=table_rows[n].text.split('\\n')[1]\n",
        "    Borough=table_rows[n].text.split('\\n')[3]\n",
        "    Neighborhood=table_rows[n].text.split('\\n')[5]\n",
        "    rows.append((Postcode, Borough,Neighborhood))\n",
        "    n=n+1\n",
        "\n",
        "dataset=pd.DataFrame(rows, columns=['PostalCode', 'Borough', 'Neighbourhood'])\n",
        "dataset.head(5)"
      ],
      "execution_count": 26,
      "outputs": [
        {
          "output_type": "execute_result",
          "data": {
            "text/html": [
              "<div>\n",
              "<style scoped>\n",
              "    .dataframe tbody tr th:only-of-type {\n",
              "        vertical-align: middle;\n",
              "    }\n",
              "\n",
              "    .dataframe tbody tr th {\n",
              "        vertical-align: top;\n",
              "    }\n",
              "\n",
              "    .dataframe thead th {\n",
              "        text-align: right;\n",
              "    }\n",
              "</style>\n",
              "<table border=\"1\" class=\"dataframe\">\n",
              "  <thead>\n",
              "    <tr style=\"text-align: right;\">\n",
              "      <th></th>\n",
              "      <th>PostalCode</th>\n",
              "      <th>Borough</th>\n",
              "      <th>Neighbourhood</th>\n",
              "    </tr>\n",
              "  </thead>\n",
              "  <tbody>\n",
              "    <tr>\n",
              "      <th>0</th>\n",
              "      <td>M1A</td>\n",
              "      <td>Not assigned</td>\n",
              "      <td></td>\n",
              "    </tr>\n",
              "    <tr>\n",
              "      <th>1</th>\n",
              "      <td>M2A</td>\n",
              "      <td>Not assigned</td>\n",
              "      <td></td>\n",
              "    </tr>\n",
              "    <tr>\n",
              "      <th>2</th>\n",
              "      <td>M3A</td>\n",
              "      <td>North York</td>\n",
              "      <td>Parkwoods</td>\n",
              "    </tr>\n",
              "    <tr>\n",
              "      <th>3</th>\n",
              "      <td>M4A</td>\n",
              "      <td>North York</td>\n",
              "      <td>Victoria Village</td>\n",
              "    </tr>\n",
              "    <tr>\n",
              "      <th>4</th>\n",
              "      <td>M5A</td>\n",
              "      <td>Downtown Toronto</td>\n",
              "      <td>Regent Park / Harbourfront</td>\n",
              "    </tr>\n",
              "  </tbody>\n",
              "</table>\n",
              "</div>"
            ],
            "text/plain": [
              "  PostalCode           Borough               Neighbourhood\n",
              "0        M1A      Not assigned                            \n",
              "1        M2A      Not assigned                            \n",
              "2        M3A        North York                   Parkwoods\n",
              "3        M4A        North York            Victoria Village\n",
              "4        M5A  Downtown Toronto  Regent Park / Harbourfront"
            ]
          },
          "metadata": {
            "tags": []
          },
          "execution_count": 26
        }
      ]
    },
    {
      "cell_type": "code",
      "metadata": {
        "id": "D5uWPrTmcMb5",
        "colab_type": "code",
        "colab": {
          "base_uri": "https://localhost:8080/",
          "height": 35
        },
        "outputId": "39ff678c-1b4b-4932-e502-d6ac4f625994"
      },
      "source": [
        "dataset.shape"
      ],
      "execution_count": 27,
      "outputs": [
        {
          "output_type": "execute_result",
          "data": {
            "text/plain": [
              "(180, 3)"
            ]
          },
          "metadata": {
            "tags": []
          },
          "execution_count": 27
        }
      ]
    },
    {
      "cell_type": "markdown",
      "metadata": {
        "id": "wPdLaBAjevy2",
        "colab_type": "text"
      },
      "source": [
        "It has 180 rows and 3 columns"
      ]
    },
    {
      "cell_type": "code",
      "metadata": {
        "id": "K92I5NebeuFJ",
        "colab_type": "code",
        "colab": {
          "base_uri": "https://localhost:8080/",
          "height": 235
        },
        "outputId": "d15527e4-3360-41d1-9599-0edac18304a9"
      },
      "source": [
        "dataset.Borough.value_counts()"
      ],
      "execution_count": 28,
      "outputs": [
        {
          "output_type": "execute_result",
          "data": {
            "text/plain": [
              "Not assigned        77\n",
              "North York          24\n",
              "Downtown Toronto    19\n",
              "Scarborough         17\n",
              "Etobicoke           12\n",
              "Central Toronto      9\n",
              "West Toronto         6\n",
              "East York            5\n",
              "East Toronto         5\n",
              "York                 5\n",
              "Mississauga          1\n",
              "Name: Borough, dtype: int64"
            ]
          },
          "metadata": {
            "tags": []
          },
          "execution_count": 28
        }
      ]
    },
    {
      "cell_type": "markdown",
      "metadata": {
        "id": "9tFTPmRpfnyg",
        "colab_type": "text"
      },
      "source": [
        "Total 77 has not assigned so now we will delete 180-77=103"
      ]
    },
    {
      "cell_type": "code",
      "metadata": {
        "id": "MSnvpowFe8Io",
        "colab_type": "code",
        "colab": {}
      },
      "source": [
        "dataset.drop(dataset[dataset['Borough']=='Not assigned'].index,inplace=True)"
      ],
      "execution_count": 0,
      "outputs": []
    },
    {
      "cell_type": "code",
      "metadata": {
        "id": "u92nXQ4JgRti",
        "colab_type": "code",
        "colab": {
          "base_uri": "https://localhost:8080/",
          "height": 217
        },
        "outputId": "29007712-855f-4603-899e-5da073bd0c5c"
      },
      "source": [
        "dataset.Borough.value_counts()"
      ],
      "execution_count": 46,
      "outputs": [
        {
          "output_type": "execute_result",
          "data": {
            "text/plain": [
              "North York          24\n",
              "Downtown Toronto    19\n",
              "Scarborough         17\n",
              "Etobicoke           12\n",
              "Central Toronto      9\n",
              "West Toronto         6\n",
              "East Toronto         5\n",
              "East York            5\n",
              "York                 5\n",
              "Mississauga          1\n",
              "Name: Borough, dtype: int64"
            ]
          },
          "metadata": {
            "tags": []
          },
          "execution_count": 46
        }
      ]
    },
    {
      "cell_type": "markdown",
      "metadata": {
        "id": "EPLkd07ChvDm",
        "colab_type": "text"
      },
      "source": [
        "It has deleted those\n",
        "\n",
        "Now lets replace the neighbourhood column\n",
        "\n",
        "\n",
        "\n",
        "\n"
      ]
    },
    {
      "cell_type": "code",
      "metadata": {
        "id": "frfgUVTug-cE",
        "colab_type": "code",
        "colab": {}
      },
      "source": [
        "dataset.loc[dataset['Neighbourhood'] == 'Not assigned', 'Neighbourhood'] = dataset['Borough']"
      ],
      "execution_count": 0,
      "outputs": []
    },
    {
      "cell_type": "code",
      "metadata": {
        "id": "xt277V_LhpyL",
        "colab_type": "code",
        "colab": {
          "base_uri": "https://localhost:8080/",
          "height": 198
        },
        "outputId": "2ca53356-68f7-444d-867b-95591656bb3c"
      },
      "source": [
        "dataset.head()"
      ],
      "execution_count": 48,
      "outputs": [
        {
          "output_type": "execute_result",
          "data": {
            "text/html": [
              "<div>\n",
              "<style scoped>\n",
              "    .dataframe tbody tr th:only-of-type {\n",
              "        vertical-align: middle;\n",
              "    }\n",
              "\n",
              "    .dataframe tbody tr th {\n",
              "        vertical-align: top;\n",
              "    }\n",
              "\n",
              "    .dataframe thead th {\n",
              "        text-align: right;\n",
              "    }\n",
              "</style>\n",
              "<table border=\"1\" class=\"dataframe\">\n",
              "  <thead>\n",
              "    <tr style=\"text-align: right;\">\n",
              "      <th></th>\n",
              "      <th>PostalCode</th>\n",
              "      <th>Borough</th>\n",
              "      <th>Neighbourhood</th>\n",
              "    </tr>\n",
              "  </thead>\n",
              "  <tbody>\n",
              "    <tr>\n",
              "      <th>2</th>\n",
              "      <td>M3A</td>\n",
              "      <td>North York</td>\n",
              "      <td>Parkwoods</td>\n",
              "    </tr>\n",
              "    <tr>\n",
              "      <th>3</th>\n",
              "      <td>M4A</td>\n",
              "      <td>North York</td>\n",
              "      <td>Victoria Village</td>\n",
              "    </tr>\n",
              "    <tr>\n",
              "      <th>4</th>\n",
              "      <td>M5A</td>\n",
              "      <td>Downtown Toronto</td>\n",
              "      <td>Regent Park / Harbourfront</td>\n",
              "    </tr>\n",
              "    <tr>\n",
              "      <th>5</th>\n",
              "      <td>M6A</td>\n",
              "      <td>North York</td>\n",
              "      <td>Lawrence Manor / Lawrence Heights</td>\n",
              "    </tr>\n",
              "    <tr>\n",
              "      <th>6</th>\n",
              "      <td>M7A</td>\n",
              "      <td>Downtown Toronto</td>\n",
              "      <td>Queen's Park / Ontario Provincial Government</td>\n",
              "    </tr>\n",
              "  </tbody>\n",
              "</table>\n",
              "</div>"
            ],
            "text/plain": [
              "  PostalCode           Borough                                 Neighbourhood\n",
              "2        M3A        North York                                     Parkwoods\n",
              "3        M4A        North York                              Victoria Village\n",
              "4        M5A  Downtown Toronto                    Regent Park / Harbourfront\n",
              "5        M6A        North York             Lawrence Manor / Lawrence Heights\n",
              "6        M7A  Downtown Toronto  Queen's Park / Ontario Provincial Government"
            ]
          },
          "metadata": {
            "tags": []
          },
          "execution_count": 48
        }
      ]
    },
    {
      "cell_type": "code",
      "metadata": {
        "id": "uL1IlXB4iC1Z",
        "colab_type": "code",
        "colab": {
          "base_uri": "https://localhost:8080/",
          "height": 35
        },
        "outputId": "fb3b0f55-b68c-4dac-bcdb-b143b76a258d"
      },
      "source": [
        "dataset.shape"
      ],
      "execution_count": 49,
      "outputs": [
        {
          "output_type": "execute_result",
          "data": {
            "text/plain": [
              "(103, 3)"
            ]
          },
          "metadata": {
            "tags": []
          },
          "execution_count": 49
        }
      ]
    },
    {
      "cell_type": "markdown",
      "metadata": {
        "id": "roijlJOlibuY",
        "colab_type": "text"
      },
      "source": [
        "Now lets combine the neighbourhoods having same postal codes"
      ]
    },
    {
      "cell_type": "code",
      "metadata": {
        "id": "7hmXpsyDiQ2a",
        "colab_type": "code",
        "colab": {
          "base_uri": "https://localhost:8080/",
          "height": 35
        },
        "outputId": "68b5e734-a7b3-45fa-a6dc-6ec3bbf9371f"
      },
      "source": [
        "dataset.PostalCode.value_counts().count()"
      ],
      "execution_count": 52,
      "outputs": [
        {
          "output_type": "execute_result",
          "data": {
            "text/plain": [
              "103"
            ]
          },
          "metadata": {
            "tags": []
          },
          "execution_count": 52
        }
      ]
    },
    {
      "cell_type": "markdown",
      "metadata": {
        "id": "QMKNhhn0isOJ",
        "colab_type": "text"
      },
      "source": [
        "It is already combined with it"
      ]
    },
    {
      "cell_type": "code",
      "metadata": {
        "id": "cpqAsVF6ilc-",
        "colab_type": "code",
        "colab": {
          "base_uri": "https://localhost:8080/",
          "height": 35
        },
        "outputId": "b3b86235-891f-4067-f2a1-485929e15776"
      },
      "source": [
        "dataset.shape"
      ],
      "execution_count": 53,
      "outputs": [
        {
          "output_type": "execute_result",
          "data": {
            "text/plain": [
              "(103, 3)"
            ]
          },
          "metadata": {
            "tags": []
          },
          "execution_count": 53
        }
      ]
    },
    {
      "cell_type": "markdown",
      "metadata": {
        "id": "HLk0uXzQi0L4",
        "colab_type": "text"
      },
      "source": [
        "End of part1"
      ]
    },
    {
      "cell_type": "code",
      "metadata": {
        "id": "3anLGsY_ix5R",
        "colab_type": "code",
        "colab": {}
      },
      "source": [
        ""
      ],
      "execution_count": 0,
      "outputs": []
    }
  ]
}